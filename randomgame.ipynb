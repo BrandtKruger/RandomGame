{
 "cells": [
  {
   "cell_type": "code",
   "execution_count": 23,
   "metadata": {},
   "outputs": [
    {
     "name": "stdin",
     "output_type": "stream",
     "text": [
      "Please enter the number of games:\n",
      " 2\n",
      "Guess the number:\n",
      " 33\n"
     ]
    },
    {
     "name": "stdout",
     "output_type": "stream",
     "text": [
      "\n",
      "The number you guest is to high \n"
     ]
    },
    {
     "name": "stdin",
     "output_type": "stream",
     "text": [
      "Guess the number:\n",
      " 4\n"
     ]
    },
    {
     "name": "stdout",
     "output_type": "stream",
     "text": [
      "\n",
      "The number you guest is to low.\n"
     ]
    }
   ],
   "source": [
    "import random\n",
    "\n",
    "number_of_games = int(input(\"Please enter the number of games:\\n\"))\n",
    "\n",
    "i = 0 \n",
    "for i in range(number_of_games): \n",
    "    i += i \n",
    "    random_number = random.randint(0,26) \n",
    "    number_guest = int(input(\"Guess the number:\\n\"))\n",
    "\n",
    "    if number_guest == random_number:\n",
    "        print(\"\\nYou guest to the correct number in guesses: \", i)\n",
    "    elif number_guest > random_number:\n",
    "        print(\"\\nThe number you guest is to high \")\n",
    "    else: \n",
    "        print(\"\\nThe number you guest is to low.\")"
   ]
  },
  {
   "cell_type": "code",
   "execution_count": null,
   "metadata": {},
   "outputs": [],
   "source": []
  }
 ],
 "metadata": {
  "kernelspec": {
   "display_name": "Python 3",
   "language": "python",
   "name": "python3"
  },
  "language_info": {
   "codemirror_mode": {
    "name": "ipython",
    "version": 3
   },
   "file_extension": ".py",
   "mimetype": "text/x-python",
   "name": "python",
   "nbconvert_exporter": "python",
   "pygments_lexer": "ipython3",
   "version": "3.7.6"
  }
 },
 "nbformat": 4,
 "nbformat_minor": 4
}
